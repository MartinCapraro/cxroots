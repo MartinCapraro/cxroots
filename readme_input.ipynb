{
 "cells": [
  {
   "cell_type": "markdown",
   "metadata": {},
   "source": [
    "# cxroots\n",
    "A Python module to compute all the (simple) roots of an analytic function within a given contour.\n",
    "\n",
    "## Introduction\n",
    "\n",
    "Given a contour $C$ in the complex plane and a function $f(z)$ (and optionally it's derivative $f'(z)$) which:\n",
    "\n",
    "* Has no roots or poles on $C$\n",
    "* Is analytic in the interior of $C$\n",
    "* Has only simple roots in the interior of $C$\n",
    "\n",
    "the module is able to compute all the roots of within $C$."
   ]
  },
  {
   "cell_type": "code",
   "execution_count": 2,
   "metadata": {
    "collapsed": false,
    "scrolled": true
   },
   "outputs": [
    {
     "data": {
      "image/png": "[encoded data removed]",
      "text/plain": [
       "<matplotlib.figure.Figure at 0x10fd26898>"
      ]
     },
     "metadata": {},
     "output_type": "display_data"
    }
   ],
   "source": [
    "from cxroots import Rectangle, showRoots, findRoots, demo_findRoots\n",
    "from numpy import sin, cos\n",
    "\n",
    "rect = Rectangle([-1.5,1.5],[-2,2])\n",
    "f  = lambda z: z**10 - 2*z**5 + sin(z)*cos(z/2)\n",
    "showRoots(rect, f)"
   ]
  },
  {
   "cell_type": "markdown",
   "metadata": {},
   "source": [
    "The implementation is primarily based on [1] where the number of roots (including multiplicities) within a contour, $N$, is calculated by numerical integration of the Cauchy integral,\n",
    "\n",
    "$$\n",
    "N=\\frac{1}{2i\\pi}\\oint_C\\frac{f'(z)}{f(z)}dz.\n",
    "$$"
   ]
  },
  {
   "cell_type": "markdown",
   "metadata": {},
   "source": [
    "The original contour is subdivided until each sub-contour only contains a single root and then the Newton-Raphson method is repeatedly used with random startpoints until the root within each sub-contour is found."
   ]
  },
  {
   "cell_type": "markdown",
   "metadata": {},
   "source": [
    "If $f'(z)$ is not provided by the user then it is approximated with a finite difference method implemented by [Numdifftools](https://pypi.python.org/pypi/Numdifftools)."
   ]
  },
  {
   "cell_type": "markdown",
   "metadata": {},
   "source": [
    "### Future improvements:\n",
    "* Allow for multiplicities of roots within $C$.  Perhaps using the method of formal orthogonal polynomials suggested in [3] or by simply considering the roots of the derivatives of $f(z)$.\n",
    "* Approximate the roots of $f$ within a contour as the zeros of a constructed polynomial [2]"
   ]
  },
  {
   "cell_type": "markdown",
   "metadata": {},
   "source": [
    "### Installation\n",
    "Can be downloaded from GitHub and installed by running the included 'setup.py' with\n",
    "```bash\n",
    "python setup.py install\n",
    "```"
   ]
  },
  {
   "cell_type": "markdown",
   "metadata": {},
   "source": [
    "### Documentation\n",
    "For a tutorial on the use of this module and a discrption of how it works see the [documentation](https://rparini.github.io/cxroots/)."
   ]
  },
  {
   "cell_type": "markdown",
   "metadata": {},
   "source": [
    "---\n",
    "\n",
    "#### References\n",
    "[1] M. Dellnitz, O. Schütze and Q. Zheng, \"Locating all the Zeros of an Analytic Function in one Complex Variable\" J. Compu. and App. Math. (2002) Vol. 138, Issue 2\n",
    "\n",
    "[2] L.M. Delves and J.N. Lyness, \"A Numerical Method for Locating the Zeros of an Analytic function\" Mathematics of Computation (1967) Vol.21, Issue 100\n",
    "\n",
    "[3] P. Kravanja, T. Sakurai and M. Van Barel, \"On locating clusters of zeros of analytic functions\" BIT (1999) Vol. 39, No. 4"
   ]
  }
 ],
 "metadata": {
  "celltoolbar": "Raw Cell Format",
  "kernelspec": {
   "display_name": "Python 3",
   "language": "python",
   "name": "python3"
  },
  "language_info": {
   "codemirror_mode": {
    "name": "ipython",
    "version": 3
   },
   "file_extension": ".py",
   "mimetype": "text/x-python",
   "name": "python",
   "nbconvert_exporter": "python",
   "pygments_lexer": "ipython3",
   "version": "3.5.1"
  }
 },
 "nbformat": 4,
 "nbformat_minor": 2
}
