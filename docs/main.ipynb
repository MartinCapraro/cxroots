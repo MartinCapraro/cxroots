{
 "cells": [
  {
   "cell_type": "markdown",
   "metadata": {},
   "source": [
    "# Rootfinding\n",
    "\n",
    "The current implementation for finding the roots of a given function $f(z)$ within a [given initial contour](contour.ipynb#Contours) $C_0$ is primarily based on [1] and is briefly described as follows.\n",
    "First define a set of contours $\\mathcal{C}$ which initially contains only the original contour $C_0$ and [compute the number of zeros](contour.ipynb#Computing-roots-within-a-contour), $N_0$, within this initial contour.  Then perform the following steps:\n",
    "\n",
    "1. Choose a contour, $C$, to remove from $\\mathcal{C}$ and [compute the number of zeros](contour.ipynb#Computing-roots-within-a-contour), $N$, within it.  This step relies on Cauchy's argument principle,\n",
    "\n",
    "   \\begin{equation} \n",
    "   N = \\frac{1}{2\\pi i} \\oint_C \\frac{f'(z)}{f(z)}.\n",
    "   \\end{equation}\n",
    "\n",
    "   If $f(z)$ and $f'(z)$ are provided by the user then the integral is directly computed using [SciPy's Romberg](https://docs.scipy.org/doc/scipy/reference/generated/scipy.integrate.romberg.html) implementation. If only $f(z)$ is given then $N$ is calculated using the difference in the argument of $f(z)$ as it is numerically continued around the contour $C$ [2,4].\n",
    "\n",
    "2. If...\n",
    "  * $N=0$ then discard the contour.\n",
    "  * $N>1$ then subdivide the contour further and add the new, smaller, contours to $\\mathcal{C}$.\n",
    "  * $N=1$ then attempt to find the root via an interative method with the initial guess for the root being a random point within the contour.  This is repeated a user specified number of times (20 by default) at which point if the root has not been found then the box is subdivided again.  The iterative method used is Newton-Raphson if $f'(z)$ is given and the Secant method if otherwise.\n",
    "        \n",
    "3. If the number of known roots is equal to $N_0$ then return the list of roots to the user.  Otherwise, return to step 1.\n",
    "\n",
    "#### References\n",
    "\n",
    "[1] M. Dellnitz, O. Schütze and Q. Zheng \"Locating all the Zeros of an Analytic Function in one Complex Variable\", 2002, J. Compu. and App. Math., Vol. 138, Issue. 2, pp. 325-333\n",
    "\n",
    "[2] L. M. Delves and J. N. Lyness \"A Numerical Method for Locating the Zeros of an Analytic Function\", 1967, Mathematics of Computation, Vol. 21, No. 100, pp. 543-560\n",
    "\n",
    "[3] P. Kravanja and M. Van Barel \"Derivative-free algorithm for computing zeros of analytic functions\", 1999, Computing, Vol. 63, pp.69-91\n",
    "\n",
    "[4] F. D. Gakhov \"Boundary value problems\", section 12 (2014), Elsevier."
   ]
  },
  {
   "cell_type": "markdown",
   "metadata": {},
   "source": [
    "# Use\n",
    "\n",
    "From a user perspective the first step is to define an [initial contour](contour.ipynb#Contours) in the complex plane which can be a \n",
    "\n",
    "   * [Circle](contour.ipynb#Circle)\n",
    "   * [Annulus](contour.ipynb#Annulus)\n",
    "   * [Rectangle](contour.ipynb#Rectangle)\n",
    "   * [Rectangle in polar coordinates](contour.ipynb#Rectangle-in-polar-coordinates)\n",
    "\n",
    "This contour, together with a function $f(z)$ (and ideally it's derivative $f'(z)$) can then be passed to the ['findRoots'](#findRoots) function.\n",
    "The list of roots can also be directly plotted with the ['showRoots'](#showRoots) function.\n",
    "The rootfinding process can be demonstrated with ['demo_findRoots'](#demo_findRoots)."
   ]
  },
  {
   "cell_type": "markdown",
   "metadata": {},
   "source": [
    "#### findRoots"
   ]
  },
  {
   "cell_type": "raw",
   "metadata": {
    "raw_mimetype": "text/restructuredtext"
   },
   "source": [
    ".. autofunction:: cxroots.findRoots"
   ]
  },
  {
   "cell_type": "code",
   "execution_count": 1,
   "metadata": {
    "collapsed": false
   },
   "outputs": [
    {
     "data": {
      "text/plain": [
       "((-0.48837432532445041+0.78548140989504933j),\n",
       " (-0.48837432532445046-0.78548140989504933j))"
      ]
     },
     "execution_count": 1,
     "metadata": {},
     "output_type": "execute_result"
    }
   ],
   "source": [
    "from cxroots import Circle, findRoots\n",
    "from numpy import sin, cos\n",
    "\n",
    "C = Circle(0, 1)\n",
    "f  = lambda z: z**2+sin(z)+1\n",
    "df = lambda z: 2*z+cos(z)\n",
    "findRoots(C, f, df)"
   ]
  },
  {
   "cell_type": "markdown",
   "metadata": {},
   "source": [
    "#### showRoots"
   ]
  },
  {
   "cell_type": "raw",
   "metadata": {
    "raw_mimetype": "text/restructuredtext"
   },
   "source": [
    ".. autofunction:: cxroots.showRoots"
   ]
  },
  {
   "cell_type": "code",
   "execution_count": 2,
   "metadata": {
    "collapsed": false,
    "scrolled": true
   },
   "outputs": [
    {
     "data": {
      "image/png": "[encoded data removed]",
      "text/plain": [
       "<matplotlib.figure.Figure at 0x10f64af28>"
      ]
     },
     "metadata": {},
     "output_type": "display_data"
    }
   ],
   "source": [
    "from cxroots import showRoots\n",
    "showRoots(C, f, df)"
   ]
  },
  {
   "cell_type": "markdown",
   "metadata": {},
   "source": [
    "#### demo_findRoots"
   ]
  },
  {
   "cell_type": "raw",
   "metadata": {
    "raw_mimetype": "text/restructuredtext"
   },
   "source": [
    ".. autofunction:: cxroots.demo_findRoots"
   ]
  },
  {
   "cell_type": "markdown",
   "metadata": {},
   "source": [
    "#### findRootsGen"
   ]
  },
  {
   "cell_type": "raw",
   "metadata": {
    "raw_mimetype": "text/restructuredtext"
   },
   "source": [
    ".. autofunction:: cxroots.RootFinder.findRootsGen"
   ]
  }
 ],
 "metadata": {
  "celltoolbar": "Raw Cell Format",
  "kernelspec": {
   "display_name": "Python 3",
   "language": "python",
   "name": "python3"
  },
  "language_info": {
   "codemirror_mode": {
    "name": "ipython",
    "version": 3
   },
   "file_extension": ".py",
   "mimetype": "text/x-python",
   "name": "python",
   "nbconvert_exporter": "python",
   "pygments_lexer": "ipython3",
   "version": "3.5.0"
  }
 },
 "nbformat": 4,
 "nbformat_minor": 2
}
